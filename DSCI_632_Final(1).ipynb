{
  "nbformat": 4,
  "nbformat_minor": 0,
  "metadata": {
    "colab": {
      "provenance": []
    },
    "kernelspec": {
      "name": "python3",
      "display_name": "Python 3"
    },
    "language_info": {
      "name": "python"
    }
  },
  "cells": [
    {
      "cell_type": "markdown",
      "source": [
        "# DSCI 632 Final\n",
        "\n",
        "Your final is to use the dataset of your choice and the techniques in this class to do the following:\n",
        "\n",
        "1. Define and describe the dataset (10 points)\n",
        "1. Clean the data (10 points)\n",
        "1. Transform the clean data (10 points)\n",
        "1. Show your analysis of the data (10 points)"
      ],
      "metadata": {
        "id": "XNwBhCh5_fcM"
      }
    },
    {
      "cell_type": "markdown",
      "source": [
        "## Ground Rules\n",
        "\n",
        "1. Explain everything you're doing with pyspark in the code cells using [markdown](https://www.markdownguide.org/cheat-sheet) in text cells. Help the reader understand why you're doing each step so they can re-create it. Remember, this is an assignment to show how you analyze data to a potential employer. Don't use code comments to explain things.\n",
        "1. All of the sections are heading 1 in markdown, so use heading 2 to write your explainations, and heading 3 for any sub-headers. Check in your table of contents view in colab to make sure each point is listed before you turn this in.\n",
        "1. Don't hesisate to use multiple code/text cells in each section, as long as they're all labeled and described.\n",
        "1. Assume that the reader doesn't have access to the dataset on your local machine. Provide a link to the dataset you're using, or if able, include code to copy it from a public source. Don't rely on uploading from your local machine. (Importing from Google Drive is ok, as long as you provide the link to the data)\n",
        "1. If using GCP services, include screenshots from your console if there's a step that you aren't able to re-produce in code. Using the SDK is always preferred, but you won't lose points for using screenshots and explaining them.\n",
        "1. Import the data ONCE, then transform it to fit your analysis.\n",
        "1. Don't overwrite data, make new columns for new transformations. You can always drop columns later, but you can't get overwritten values back.\n",
        "1. Feel free to work with classmates, but all work submitted must be your own.\n",
        "1. Make sure to run disconnect the runtime and re-run the notebook at least once before turning in. If you are getting certain Java runtime errors, this might also help."
      ],
      "metadata": {
        "id": "aZL-vts6Fyji"
      }
    },
    {
      "cell_type": "markdown",
      "source": [
        "## Extra Credit Opportunities!\n",
        "\n",
        "- If you provide a link to this notebook on your public GitHub page instead of turning it in as an attachment, you will get 2 points extra credit.\n",
        "- Extra credit will be given for using the [Google Cloud SDK](https://cloud.google.com/sdk/) to create/use/destroy any cloud resources, up to 2 points per section, 8 points total.\n",
        " - Don't be afraid to look at the GCP example colab notebooks from the class notes, the GCP documentation, or GitHub for examples.\n",
        "- If this notebook is self-contained, you will get 5 points extra credit. (Requirements below)\n",
        " - The data is imported without relying on Google Drive, as the paths to data in Google Drive are user-specific. Downloads from public storage buckets/services are fine. (1 point)\n",
        " - It be run from start to finish without making any changes to paths, code, or variable names. (1 point)\n",
        " - All calls to external services, including GCP, are done programatically, no screenshots explaining how it worked in a browser console. (Using an API or SDK, 2 points)\n",
        " - All cloud resources are destroyed at the end of the notebook in a seperate section (Also via API or SDK, 1 point)"
      ],
      "metadata": {
        "id": "o92jEFUiQDLu"
      }
    },
    {
      "cell_type": "markdown",
      "source": [
        "---"
      ],
      "metadata": {
        "id": "te7o-qDYH5Pl"
      }
    },
    {
      "cell_type": "markdown",
      "source": [
        "# Section 1: Define and describe the dataset\n",
        "\n",
        "10 points\n",
        "\n",
        "Import the dataset, and describe why you'll be analyzing in it. You can summarize a few columns, show a more information on the relavent features, or but help the reader understand what the dataset is, what is in it, and why you picked it.\n",
        "\n",
        "Some questions that it might help you to answer:\n",
        "1. Why are you choosing this dataset?\n",
        "1. What variables will you use?\n",
        "1. What analysis(es) will you run?\n",
        "1. Do you have any hypotheses? What are they?\n",
        "\n",
        "### This section should include one or more of the following:\n",
        "- A histogram of several features relavent to your analysis\n",
        "- The schema of the dataset, with the datatypes assigned correctly\n",
        "- A text cell with explainations of the relavent features in [markdown](https://www.markdownguide.org/cheat-sheet)\n",
        "- Use Spark SQL or built-in methods to show a range of values\n",
        "- Most common words/n-grams found"
      ],
      "metadata": {
        "id": "rlYD5Go09y1Q"
      }
    },
    {
      "cell_type": "markdown",
      "source": [
        "## Set up Environment"
      ],
      "metadata": {
        "id": "3-DuHgDCHXJK"
      }
    },
    {
      "cell_type": "code",
      "source": [
        "# Install Spark 3.5.0\n",
        "!apt-get install openjdk-8-jdk-headless -qq > /dev/null\n",
        "!wget -q https://downloads.apache.org/spark/spark-3.5.1/spark-3.5.1-bin-hadoop3.tgz\n",
        "!tar xf spark-3.5.1-bin-hadoop3.tgz"
      ],
      "metadata": {
        "id": "np1bhQ8pHUTg"
      },
      "execution_count": 1,
      "outputs": []
    },
    {
      "cell_type": "code",
      "source": [
        "# Set Environment Variables\n",
        "import os\n",
        "os.environ[\"JAVA_HOME\"] = \"/usr/lib/jvm/java-8-openjdk-amd64\"\n",
        "os.environ[\"SPARK_HOME\"] = \"/content/spark-3.5.1-bin-hadoop3\""
      ],
      "metadata": {
        "id": "YxnMYnTQIAxS"
      },
      "execution_count": 2,
      "outputs": []
    },
    {
      "cell_type": "code",
      "source": [
        "# Install findspark\n",
        "!python -m pip install -q findspark\n",
        "\n",
        "import findspark\n",
        "findspark.init()"
      ],
      "metadata": {
        "id": "CPeCdxr0ID3S"
      },
      "execution_count": 3,
      "outputs": []
    },
    {
      "cell_type": "code",
      "source": [
        "from google.colab import drive\n",
        "drive.mount('/content/gdrive')"
      ],
      "metadata": {
        "id": "Y_WqDI9E8OFv",
        "colab": {
          "base_uri": "https://localhost:8080/"
        },
        "outputId": "3e81e408-2b3b-455c-ce7b-4518d0182f8f"
      },
      "execution_count": 4,
      "outputs": [
        {
          "output_type": "stream",
          "name": "stdout",
          "text": [
            "Mounted at /content/gdrive\n"
          ]
        }
      ]
    },
    {
      "cell_type": "code",
      "source": [
        "from pyspark.sql import SparkSession\n",
        "\n",
        "APP_NAME = \"Final\"\n",
        "\n",
        "spark = SparkSession.builder.appName(APP_NAME).getOrCreate()\n",
        "\n",
        "spark"
      ],
      "metadata": {
        "colab": {
          "base_uri": "https://localhost:8080/",
          "height": 221
        },
        "id": "wm8Lbhx_IJhR",
        "outputId": "4733555a-ccf1-453f-8983-152582508d8b"
      },
      "execution_count": 5,
      "outputs": [
        {
          "output_type": "execute_result",
          "data": {
            "text/plain": [
              "<pyspark.sql.session.SparkSession at 0x7ff9f0570ee0>"
            ],
            "text/html": [
              "\n",
              "            <div>\n",
              "                <p><b>SparkSession - in-memory</b></p>\n",
              "                \n",
              "        <div>\n",
              "            <p><b>SparkContext</b></p>\n",
              "\n",
              "            <p><a href=\"http://5b241d064f6f:4040\">Spark UI</a></p>\n",
              "\n",
              "            <dl>\n",
              "              <dt>Version</dt>\n",
              "                <dd><code>v3.5.1</code></dd>\n",
              "              <dt>Master</dt>\n",
              "                <dd><code>local[*]</code></dd>\n",
              "              <dt>AppName</dt>\n",
              "                <dd><code>Final</code></dd>\n",
              "            </dl>\n",
              "        </div>\n",
              "        \n",
              "            </div>\n",
              "        "
            ]
          },
          "metadata": {},
          "execution_count": 5
        }
      ]
    },
    {
      "cell_type": "code",
      "source": [
        "pip install matplotlib seaborn"
      ],
      "metadata": {
        "colab": {
          "base_uri": "https://localhost:8080/"
        },
        "id": "Y220thPhQ94c",
        "outputId": "0e0bc156-ef6b-4329-bd42-496182837b92"
      },
      "execution_count": 6,
      "outputs": [
        {
          "output_type": "stream",
          "name": "stdout",
          "text": [
            "Requirement already satisfied: matplotlib in /usr/local/lib/python3.10/dist-packages (3.7.1)\n",
            "Requirement already satisfied: seaborn in /usr/local/lib/python3.10/dist-packages (0.13.1)\n",
            "Requirement already satisfied: contourpy>=1.0.1 in /usr/local/lib/python3.10/dist-packages (from matplotlib) (1.2.0)\n",
            "Requirement already satisfied: cycler>=0.10 in /usr/local/lib/python3.10/dist-packages (from matplotlib) (0.12.1)\n",
            "Requirement already satisfied: fonttools>=4.22.0 in /usr/local/lib/python3.10/dist-packages (from matplotlib) (4.49.0)\n",
            "Requirement already satisfied: kiwisolver>=1.0.1 in /usr/local/lib/python3.10/dist-packages (from matplotlib) (1.4.5)\n",
            "Requirement already satisfied: numpy>=1.20 in /usr/local/lib/python3.10/dist-packages (from matplotlib) (1.25.2)\n",
            "Requirement already satisfied: packaging>=20.0 in /usr/local/lib/python3.10/dist-packages (from matplotlib) (23.2)\n",
            "Requirement already satisfied: pillow>=6.2.0 in /usr/local/lib/python3.10/dist-packages (from matplotlib) (9.4.0)\n",
            "Requirement already satisfied: pyparsing>=2.3.1 in /usr/local/lib/python3.10/dist-packages (from matplotlib) (3.1.2)\n",
            "Requirement already satisfied: python-dateutil>=2.7 in /usr/local/lib/python3.10/dist-packages (from matplotlib) (2.8.2)\n",
            "Requirement already satisfied: pandas>=1.2 in /usr/local/lib/python3.10/dist-packages (from seaborn) (1.5.3)\n",
            "Requirement already satisfied: pytz>=2020.1 in /usr/local/lib/python3.10/dist-packages (from pandas>=1.2->seaborn) (2023.4)\n",
            "Requirement already satisfied: six>=1.5 in /usr/local/lib/python3.10/dist-packages (from python-dateutil>=2.7->matplotlib) (1.16.0)\n"
          ]
        }
      ]
    },
    {
      "cell_type": "markdown",
      "source": [
        "## Load the data and show schema"
      ],
      "metadata": {
        "id": "pqMR1YaAIVA-"
      }
    },
    {
      "cell_type": "code",
      "source": [
        "# Load the dataset\n",
        "df = spark.read.csv(\"/content/gdrive/MyDrive/Colab Datasets/names_by_birth_year.csv\", header=True, inferSchema=True)\n",
        "\n",
        "# Show schema and some sample data\n",
        "df.printSchema()\n",
        "df.show(5)"
      ],
      "metadata": {
        "colab": {
          "base_uri": "https://localhost:8080/"
        },
        "id": "nhE1eww1G1tH",
        "outputId": "e0ff7087-c111-4ffa-865e-522f645899e1"
      },
      "execution_count": 7,
      "outputs": [
        {
          "output_type": "stream",
          "name": "stdout",
          "text": [
            "root\n",
            " |-- Year: integer (nullable = true)\n",
            " |-- Name: string (nullable = true)\n",
            " |-- Gender: string (nullable = true)\n",
            " |-- Count: integer (nullable = true)\n",
            "\n",
            "+----+---------+------+-----+\n",
            "|Year|     Name|Gender|Count|\n",
            "+----+---------+------+-----+\n",
            "|1883|     Mary|     F| 8012|\n",
            "|1883|     Anna|     F| 3306|\n",
            "|1883|     Emma|     F| 2367|\n",
            "|1883|Elizabeth|     F| 2255|\n",
            "|1883|   Minnie|     F| 2035|\n",
            "+----+---------+------+-----+\n",
            "only showing top 5 rows\n",
            "\n"
          ]
        }
      ]
    },
    {
      "cell_type": "markdown",
      "source": [
        "## Histogram of Birth Year and Name Counts"
      ],
      "metadata": {
        "id": "huQQ6B5aRChG"
      }
    },
    {
      "cell_type": "code",
      "source": [
        "import matplotlib.pyplot as plt\n",
        "import seaborn as sns\n",
        "from pyspark.sql.functions import count\n",
        "\n",
        "# Create a histogram for the \"Year\" column\n",
        "plt.figure(figsize=(10, 5))\n",
        "sns.histplot(df.select(\"Year\").rdd.flatMap(lambda x: x).collect(), bins=20, color='skyblue', edgecolor='black')\n",
        "plt.title(\"Distribution of Birth Years\")\n",
        "plt.xlabel(\"Birth Year\")\n",
        "plt.ylabel(\"Count\")\n",
        "plt.show()\n",
        "\n",
        "# Group by unique names and count occurrences\n",
        "name_counts = df.groupBy(\"Name\").agg(count(\"Name\").alias(\"NameCount\"))\n",
        "\n",
        "# Create a histogram for the count of unique names\n",
        "plt.figure(figsize=(10, 5))\n",
        "sns.histplot(name_counts.select(\"NameCount\").rdd.flatMap(lambda x: x).collect(), bins=20, color='salmon', edgecolor='black')\n",
        "plt.title(\"Distribution of Name Counts\")\n",
        "plt.xlabel(\"Name Count\")\n",
        "plt.ylabel(\"Frequency\")\n",
        "plt.show()"
      ],
      "metadata": {
        "colab": {
          "base_uri": "https://localhost:8080/",
          "height": 957
        },
        "id": "XGdZdy0tRBCQ",
        "outputId": "517ec645-5152-4e17-9180-f5dc0b2703dd"
      },
      "execution_count": 8,
      "outputs": [
        {
          "output_type": "display_data",
          "data": {
            "text/plain": [
              "<Figure size 1000x500 with 1 Axes>"
            ],
            "image/png": "[encoded data removed]"
          },
          "metadata": {}
        },
        {
          "output_type": "display_data",
          "data": {
            "text/plain": [
              "<Figure size 1000x500 with 1 Axes>"
            ],
            "image/png": "[encoded data removed]"
          },
          "metadata": {}
        }
      ]
    },
    {
      "cell_type": "markdown",
      "source": [
        "## Explanation of Relevant Features:\n",
        "1. Year: The birth year of individuals, indicating the time frame for the dataset. This feature is crucial for analyzing naming trends over different periods.\n",
        "\n",
        "2. Name: The name of individuals, providing insights into the diversity and popularity of names over the years. This feature is central to identifying trends and patterns in naming conventions.\n",
        "\n",
        "3. Gender: Specifies the gender associated with each name. This information allows for gender-specific analysis and can be used to identify naming preferences based on gender.\n",
        "\n",
        "4. Count: Represents the frequency or count of a specific name in a given year. This feature is vital for understanding the popularity of names at different points in time."
      ],
      "metadata": {
        "id": "Czz3rOavKDOe"
      }
    },
    {
      "cell_type": "markdown",
      "source": [
        "## Use built-in fucntion to find range of values"
      ],
      "metadata": {
        "id": "-Plb5QMlKrOO"
      }
    },
    {
      "cell_type": "code",
      "source": [
        "# Show the range of values for each column using DataFrame methods\n",
        "df.agg({\"Year\": \"min\", \"Year\": \"max\"}).show()\n",
        "df.agg({\"Name\": \"min\", \"Name\": \"max\"}).show()\n",
        "df.select(\"Gender\").distinct().show()\n",
        "df.agg({\"Count\": \"min\", \"Count\": \"max\"}).show()"
      ],
      "metadata": {
        "colab": {
          "base_uri": "https://localhost:8080/"
        },
        "id": "RDBT8UA-Kaaq",
        "outputId": "40ed9e57-524a-43a2-dc21-2fa0e2c80b58"
      },
      "execution_count": 9,
      "outputs": [
        {
          "output_type": "stream",
          "name": "stdout",
          "text": [
            "+---------+\n",
            "|max(Year)|\n",
            "+---------+\n",
            "|     2022|\n",
            "+---------+\n",
            "\n",
            "+---------+\n",
            "|max(Name)|\n",
            "+---------+\n",
            "|    Zzyzx|\n",
            "+---------+\n",
            "\n",
            "+------+\n",
            "|Gender|\n",
            "+------+\n",
            "|     F|\n",
            "|     M|\n",
            "+------+\n",
            "\n",
            "+----------+\n",
            "|max(Count)|\n",
            "+----------+\n",
            "|     99693|\n",
            "+----------+\n",
            "\n"
          ]
        }
      ]
    },
    {
      "cell_type": "markdown",
      "source": [
        "## Most Common Words/N-grams:"
      ],
      "metadata": {
        "id": "5rCavhONLPhp"
      }
    },
    {
      "cell_type": "code",
      "source": [
        "from pyspark.sql.functions import explode, lower, split\n",
        "\n",
        "# Tokenize the \"Name\" column and convert to lowercase\n",
        "df = df.withColumn(\"NameTokens\", explode(split(lower(\"Name\"), \" \")))\n",
        "\n",
        "# Group by tokens and count occurrences\n",
        "most_common_words = df.groupBy(\"NameTokens\").count().orderBy(\"count\", ascending=False).limit(10)\n",
        "\n",
        "print(\"Most Common Words:\")\n",
        "most_common_words.show()"
      ],
      "metadata": {
        "colab": {
          "base_uri": "https://localhost:8080/"
        },
        "id": "3CZD8PmgL6aC",
        "outputId": "b1e6d75f-5317-4748-ff46-bd7d72f01e8c"
      },
      "execution_count": 10,
      "outputs": [
        {
          "output_type": "stream",
          "name": "stdout",
          "text": [
            "Most Common Words:\n",
            "+----------+-----+\n",
            "|NameTokens|count|\n",
            "+----------+-----+\n",
            "|    joseph|  286|\n",
            "|   francis|  286|\n",
            "|   william|  286|\n",
            "|    marion|  286|\n",
            "|   johnnie|  286|\n",
            "|      jean|  286|\n",
            "|    sidney|  286|\n",
            "|      john|  286|\n",
            "|    tommie|  286|\n",
            "|     ollie|  286|\n",
            "+----------+-----+\n",
            "\n"
          ]
        }
      ]
    },
    {
      "cell_type": "markdown",
      "source": [
        "# Section 2: Clean the data\n",
        "\n",
        "10 points\n",
        "\n",
        "Not every dataset is going to be ready to use right away. Take steps to fix incorrect inputs, remove null values, and assign datatypes that fit each feature.\n",
        "\n",
        "### This section should include one or more of the following:\n",
        "- A count of rows before and after dropping data with null or incorrect values, including an explaination of why removing the rows was necessary in [markdown](https://www.markdownguide.org/cheat-sheet).\n",
        "- Renaming a column, adding a new one, or casting an existing one as a different datatype.\n",
        "- Remove punctuation marks, symbols, etc from the data, and convert all upper-case lettering to lower-case.\n",
        "- Remove or fix rows that have bad values/data."
      ],
      "metadata": {
        "id": "PJf7Kn_E-nsi"
      }
    },
    {
      "cell_type": "markdown",
      "source": [
        "## Handiling missing values"
      ],
      "metadata": {
        "id": "6Nsa8ERLToeQ"
      }
    },
    {
      "cell_type": "markdown",
      "source": [
        "### Explanation\n",
        "Dropping rows with null values is necessary to ensure data quality and prevent issues during analysis.\n",
        "If a row has missing values in critical columns, it may not provide meaningful insights, and imputation\n",
        "might introduce bias. The count comparison helps us understand the impact of this operation.\n"
      ],
      "metadata": {
        "id": "hjQ6waqvT3EV"
      }
    },
    {
      "cell_type": "code",
      "source": [
        "# Count of rows before dropping null values\n",
        "before_rows = df.count()\n",
        "\n",
        "# Drop rows with null values in any column\n",
        "df_cleaned = df.dropna()\n",
        "\n",
        "# Count of rows after dropping null values\n",
        "after_rows = df_cleaned.count()\n",
        "\n",
        "print(f\"Rows before cleaning: {before_rows}\")\n",
        "print(f\"Rows after cleaning: {after_rows}\")"
      ],
      "metadata": {
        "id": "AXLF1DHU8OuX",
        "colab": {
          "base_uri": "https://localhost:8080/"
        },
        "outputId": "72c45bd8-b6e3-4cbb-cf34-b0d562ebf9f2"
      },
      "execution_count": 11,
      "outputs": [
        {
          "output_type": "stream",
          "name": "stdout",
          "text": [
            "Rows before cleaning: 2085158\n",
            "Rows after cleaning: 2085158\n"
          ]
        }
      ]
    },
    {
      "cell_type": "markdown",
      "source": [
        "## Handling data types"
      ],
      "metadata": {
        "id": "tya7JiHvUAxa"
      }
    },
    {
      "cell_type": "code",
      "source": [
        "from pyspark.sql.functions import col\n",
        "\n",
        "# Casting the \"Year\" column to integer\n",
        "df_cleaned = df_cleaned.withColumn(\"Year\", col(\"Year\").cast(\"integer\"))"
      ],
      "metadata": {
        "id": "Kwd6pnjVUD6f"
      },
      "execution_count": 12,
      "outputs": []
    },
    {
      "cell_type": "markdown",
      "source": [
        "## Cleaning text data (Convert to lowercase, remove punctuation)"
      ],
      "metadata": {
        "id": "wvBWv4lVUH_l"
      }
    },
    {
      "cell_type": "code",
      "source": [
        "from pyspark.sql.functions import regexp_replace\n",
        "\n",
        "# Convert \"Name\" column to lowercase\n",
        "df_cleaned = df_cleaned.withColumn(\"Name\", lower(col(\"Name\")))\n",
        "\n",
        "# Remove punctuation marks from the \"Name\" column\n",
        "df_cleaned = df_cleaned.withColumn(\"Name\", regexp_replace(col(\"Name\"), \"[^a-zA-Z0-9\\\\s]\", \"\"))"
      ],
      "metadata": {
        "id": "FDaqmt1HULn8"
      },
      "execution_count": 13,
      "outputs": []
    },
    {
      "cell_type": "markdown",
      "source": [
        "## Handling bad values/data"
      ],
      "metadata": {
        "id": "F-1k5K14US53"
      }
    },
    {
      "cell_type": "code",
      "source": [
        "# Remove rows where \"Year\" is negative\n",
        "df_cleaned = df_cleaned.filter(col(\"Year\") >= 0)"
      ],
      "metadata": {
        "id": "wICuNjuUUYKK"
      },
      "execution_count": 14,
      "outputs": []
    },
    {
      "cell_type": "markdown",
      "source": [
        "# Section 3: Transform the clean data\n",
        "\n",
        "10 points\n",
        "\n",
        "Once you have clean data, start to prepare it to fit your analysis tools. This might mean using custom code to normalize certain values, joining supplemental datasets, and/or preparing it for machine learning.\n",
        "\n",
        "### This section should include one or more of the following:\n",
        "- Write a UDF to perform a function, then use it to add a new column to your data. Explain why in [markdown](https://www.markdownguide.org/cheat-sheet)\n",
        "- Join an outside data source. (It can be one you've prepared alongside the primary source you're using, as long as you link it)\n",
        "- Split the data into train/test sets\n",
        "- Create vectors for relavent features\n",
        "- One-hot encode catagorical variables"
      ],
      "metadata": {
        "id": "7vn1ZLLh8WhW"
      }
    },
    {
      "cell_type": "markdown",
      "source": [
        "## Adding a new column with UDF"
      ],
      "metadata": {
        "id": "OEqPjd2VU1bI"
      }
    },
    {
      "cell_type": "markdown",
      "source": [
        "### Explanation\n",
        "Adding a new column \"FirstLetter\" can provide insights or features for analysis.\n",
        "A simple UDF is used to extract the first letter of the \"Name\" column,\n",
        "which might be useful for exploring patterns or trends related to initial letters of names."
      ],
      "metadata": {
        "id": "UfvWEhiDU8X_"
      }
    },
    {
      "cell_type": "code",
      "source": [
        "from pyspark.sql.functions import udf\n",
        "from pyspark.sql.types import StringType\n",
        "\n",
        "# Example UDF to extract the first letter of the \"Name\" column\n",
        "@udf(StringType())\n",
        "def extract_first_letter(name):\n",
        "    return name[0] if name else None\n",
        "\n",
        "# Adding a new column \"FirstLetter\" with the first letter of the name\n",
        "df_transformed = df_cleaned.withColumn(\"FirstLetter\", extract_first_letter(\"Name\"))"
      ],
      "metadata": {
        "id": "buHJ1SEJHvMK"
      },
      "execution_count": 15,
      "outputs": []
    },
    {
      "cell_type": "markdown",
      "source": [
        "## Splitting data into train/test sets"
      ],
      "metadata": {
        "id": "-Am6KGdmVHGj"
      }
    },
    {
      "cell_type": "markdown",
      "source": [
        "### Explanation\n",
        "Splitting the data into train and test sets is essential for model evaluation.\n",
        "The training set is used to train the model, and the test set helps assess its performance on unseen data."
      ],
      "metadata": {
        "id": "BrMFNjVFVYSo"
      }
    },
    {
      "cell_type": "code",
      "source": [
        "train_data, test_data = df_cleaned.randomSplit([0.7, 0.3], seed=42)"
      ],
      "metadata": {
        "id": "EUMaanefVQxf"
      },
      "execution_count": 16,
      "outputs": []
    },
    {
      "cell_type": "markdown",
      "source": [
        "## Creating vectors for relevant features"
      ],
      "metadata": {
        "id": "TzqGUjzOVeWM"
      }
    },
    {
      "cell_type": "markdown",
      "source": [
        "### Explanation\n",
        "Creating vectors is a common step in machine learning.\n",
        "The VectorAssembler combines multiple feature columns into a single vector column,\n",
        "which is often required for machine learning algorithms in Spark."
      ],
      "metadata": {
        "id": "eERt_Cy-VnLR"
      }
    },
    {
      "cell_type": "code",
      "source": [
        "from pyspark.ml.feature import VectorAssembler\n",
        "\n",
        "# Assuming \"Year\" and \"Count\" are relevant numeric features\n",
        "assembler = VectorAssembler(inputCols=[\"Year\", \"Count\"], outputCol=\"features\")\n",
        "df_transformed = assembler.transform(df_cleaned)"
      ],
      "metadata": {
        "id": "tG4UUpdbVj3h"
      },
      "execution_count": 17,
      "outputs": []
    },
    {
      "cell_type": "markdown",
      "source": [
        "## One-Hot encoding categorical variables"
      ],
      "metadata": {
        "id": "cBflF5eeVsnG"
      }
    },
    {
      "cell_type": "markdown",
      "source": [
        "### Explanation\n",
        "One-hot encoding is necessary for categorical variables in machine learning models.\n",
        "This process converts categorical variables into a format suitable for machine learning algorithms,\n",
        "where each category is represented as a binary (0 or 1) column."
      ],
      "metadata": {
        "id": "TkBpiH1eWSl2"
      }
    },
    {
      "cell_type": "code",
      "source": [
        "from pyspark.ml import Pipeline\n",
        "from pyspark.ml.feature import StringIndexer, OneHotEncoder\n",
        "\n",
        "# Assuming \"Gender\" is a categorical variable\n",
        "gender_indexer = StringIndexer(inputCol=\"Gender\", outputCol=\"GenderIndex\")\n",
        "gender_encoder = OneHotEncoder(inputCol=\"GenderIndex\", outputCol=\"GenderEncoded\")\n",
        "\n",
        "# Create a pipeline to execute the stages in order\n",
        "pipeline = Pipeline(stages=[gender_indexer, gender_encoder])\n",
        "\n",
        "# Fit and transform the data using the pipeline\n",
        "pipeline_model = pipeline.fit(df_cleaned)\n",
        "df_transformed = pipeline_model.transform(df_cleaned)"
      ],
      "metadata": {
        "id": "VaZ6pyyVVxb9"
      },
      "execution_count": 18,
      "outputs": []
    },
    {
      "cell_type": "markdown",
      "source": [
        "# Section 4: Show your analysis of the data\n",
        "\n",
        "10 points\n",
        "\n",
        "This is where the science happens. Use your data to show some kind of insight, and how you got there. Make the reader understand why it's important, and how they can get the same conslusion, and/or what would need to change to reach a different one.\n",
        "\n",
        "### This section should include one or more of the following:\n",
        "- Fit the data to a model\n",
        "- Show the outcome of clustering, regression, and/or classification algorithms.\n",
        " - We used several in class, but you can use whatever fits your needs for this assignment\n",
        "- Reccomend a product/item\n",
        "- Use a SQL query to filter results\n"
      ],
      "metadata": {
        "id": "nV7baCwkIDc7"
      }
    },
    {
      "cell_type": "markdown",
      "source": [
        "## Exploratory Data Analysis (EDA)"
      ],
      "metadata": {
        "id": "67mf4QMdWdDt"
      }
    },
    {
      "cell_type": "markdown",
      "source": [
        "## Fit the data into the model"
      ],
      "metadata": {
        "id": "a7m52tPdXLZu"
      }
    },
    {
      "cell_type": "markdown",
      "source": [
        "### Fit a linear regression model to predict the count based on the year"
      ],
      "metadata": {
        "id": "eTQc06sHd9Z5"
      }
    },
    {
      "cell_type": "code",
      "source": [
        "from pyspark.ml.regression import LinearRegression\n",
        "from pyspark.ml.feature import VectorAssembler\n",
        "\n",
        "# Vectorize features\n",
        "assembler = VectorAssembler(inputCols=[\"Year\"], outputCol=\"features\")\n",
        "df_model = assembler.transform(df_cleaned)\n",
        "\n",
        "# Split the data into training and testing sets\n",
        "train_data, test_data = df_model.randomSplit([0.8, 0.2], seed=42)\n",
        "\n",
        "# Create a Linear Regression model\n",
        "lr = LinearRegression(featuresCol=\"features\", labelCol=\"Count\")\n",
        "\n",
        "# Fit the model to the training data\n",
        "lr_model = lr.fit(train_data)\n",
        "\n",
        "# Evaluate the model on the test data\n",
        "test_results = lr_model.evaluate(test_data)\n",
        "\n",
        "# Display the model's coefficients and performance metrics\n",
        "print(\"Coefficients: \", lr_model.coefficients)\n",
        "print(\"Intercept: \", lr_model.intercept)\n",
        "print(\"Root Mean Squared Error (RMSE): \", test_results.rootMeanSquaredError)"
      ],
      "metadata": {
        "colab": {
          "base_uri": "https://localhost:8080/"
        },
        "id": "aMWii5uQXPPl",
        "outputId": "3c2960eb-a79a-40dc-9b70-b4d96c5e0d4b"
      },
      "execution_count": 19,
      "outputs": [
        {
          "output_type": "stream",
          "name": "stdout",
          "text": [
            "Coefficients:  [-1.152314044820943]\n",
            "Intercept:  2454.7341521463686\n",
            "Root Mean Squared Error (RMSE):  1465.0440206822977\n"
          ]
        }
      ]
    },
    {
      "cell_type": "markdown",
      "source": [
        "### Regression Analysis\n",
        "\n",
        "Use linear regression to predict the count of names based on the birth year."
      ],
      "metadata": {
        "id": "AyUdnDvOXYgp"
      }
    },
    {
      "cell_type": "code",
      "source": [
        "# Fit the linear regression model\n",
        "lr_model = LinearRegression(featuresCol=\"features\", labelCol=\"Count\").fit(df_model)\n",
        "\n",
        "# Print the coefficients and intercept\n",
        "print(\"Coefficients: \", lr_model.coefficients)\n",
        "print(\"Intercept: \", lr_model.intercept)"
      ],
      "metadata": {
        "colab": {
          "base_uri": "https://localhost:8080/"
        },
        "id": "OgMQsPtqXVjc",
        "outputId": "4a4411ae-59ec-4a68-8e6d-1a049f36e8a6"
      },
      "execution_count": 20,
      "outputs": [
        {
          "output_type": "stream",
          "name": "stdout",
          "text": [
            "Coefficients:  [-1.1495452993479458]\n",
            "Intercept:  2449.352935200019\n"
          ]
        }
      ]
    },
    {
      "cell_type": "markdown",
      "source": [
        "### SQL query to filter result"
      ],
      "metadata": {
        "id": "sYJGN7VtXlvR"
      }
    },
    {
      "cell_type": "code",
      "source": [
        "# Register the DataFrame as a SQL temporary view\n",
        "df_cleaned.createOrReplaceTempView(\"name_data\")\n",
        "\n",
        "# Use SQL to filter results for \"Female\" gender\n",
        "female_data = spark.sql(\"SELECT * FROM name_data WHERE Gender = 'Female'\")"
      ],
      "metadata": {
        "id": "V74Yn_2TXuVP"
      },
      "execution_count": 21,
      "outputs": []
    }
  ]
}